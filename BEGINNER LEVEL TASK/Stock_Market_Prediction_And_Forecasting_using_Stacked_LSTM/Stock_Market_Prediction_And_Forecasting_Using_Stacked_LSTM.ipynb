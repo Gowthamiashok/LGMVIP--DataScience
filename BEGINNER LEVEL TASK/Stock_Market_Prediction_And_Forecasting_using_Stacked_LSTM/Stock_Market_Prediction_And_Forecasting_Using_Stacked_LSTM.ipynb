{
 "cells": [
  {
   "cell_type": "markdown",
   "metadata": {},
   "source": [
    "# LetsGrowMore (LGMVIP) - May 2022"
   ]
  },
  {
   "cell_type": "markdown",
   "metadata": {},
   "source": [
    "## A.GOWTHAMI - Data Science Intern"
   ]
  },
  {
   "cell_type": "markdown",
   "metadata": {},
   "source": [
    "## BEGINNER LEVEL TASK"
   ]
  },
  {
   "cell_type": "markdown",
   "metadata": {},
   "source": [
    "## Task 2 - Stock Market Prediction And Forecasting Using Stacked LSTM"
   ]
  },
  {
   "cell_type": "markdown",
   "metadata": {},
   "source": [
    "DATASET LINK : https://raw.githubusercontent.com/mwitiderrick/stockprice/master/NSE-TATAGLOBAL.csv"
   ]
  },
  {
   "cell_type": "markdown",
   "metadata": {},
   "source": [
    "## 1. IMPORTING THE NECESSARY LIBRARIES"
   ]
  },
  {
   "cell_type": "code",
   "execution_count": 1,
   "metadata": {},
   "outputs": [],
   "source": [
    "import pandas as pd\n",
    "import numpy as np\n",
    "from matplotlib import pyplot as plt\n",
    "import seaborn as sns"
   ]
  },
  {
   "cell_type": "markdown",
   "metadata": {},
   "source": [
    "## 2. IMPORTING THE DATASET"
   ]
  },
  {
   "cell_type": "code",
   "execution_count": 2,
   "metadata": {},
   "outputs": [],
   "source": [
    "url = 'https://raw.githubusercontent.com/mwitiderrick/stockprice/master/NSE-TATAGLOBAL.csv'\n",
    "data = pd.read_csv(url)"
   ]
  },
  {
   "cell_type": "markdown",
   "metadata": {},
   "source": [
    "## 3. ANALYSIS"
   ]
  },
  {
   "cell_type": "code",
   "execution_count": 3,
   "metadata": {},
   "outputs": [
    {
     "data": {
      "text/html": [
       "<div>\n",
       "<style scoped>\n",
       "    .dataframe tbody tr th:only-of-type {\n",
       "        vertical-align: middle;\n",
       "    }\n",
       "\n",
       "    .dataframe tbody tr th {\n",
       "        vertical-align: top;\n",
       "    }\n",
       "\n",
       "    .dataframe thead th {\n",
       "        text-align: right;\n",
       "    }\n",
       "</style>\n",
       "<table border=\"1\" class=\"dataframe\">\n",
       "  <thead>\n",
       "    <tr style=\"text-align: right;\">\n",
       "      <th></th>\n",
       "      <th>Date</th>\n",
       "      <th>Open</th>\n",
       "      <th>High</th>\n",
       "      <th>Low</th>\n",
       "      <th>Last</th>\n",
       "      <th>Close</th>\n",
       "      <th>Total Trade Quantity</th>\n",
       "      <th>Turnover (Lacs)</th>\n",
       "    </tr>\n",
       "  </thead>\n",
       "  <tbody>\n",
       "    <tr>\n",
       "      <th>0</th>\n",
       "      <td>2018-09-28</td>\n",
       "      <td>234.05</td>\n",
       "      <td>235.95</td>\n",
       "      <td>230.20</td>\n",
       "      <td>233.50</td>\n",
       "      <td>233.75</td>\n",
       "      <td>3069914</td>\n",
       "      <td>7162.35</td>\n",
       "    </tr>\n",
       "    <tr>\n",
       "      <th>1</th>\n",
       "      <td>2018-09-27</td>\n",
       "      <td>234.55</td>\n",
       "      <td>236.80</td>\n",
       "      <td>231.10</td>\n",
       "      <td>233.80</td>\n",
       "      <td>233.25</td>\n",
       "      <td>5082859</td>\n",
       "      <td>11859.95</td>\n",
       "    </tr>\n",
       "    <tr>\n",
       "      <th>2</th>\n",
       "      <td>2018-09-26</td>\n",
       "      <td>240.00</td>\n",
       "      <td>240.00</td>\n",
       "      <td>232.50</td>\n",
       "      <td>235.00</td>\n",
       "      <td>234.25</td>\n",
       "      <td>2240909</td>\n",
       "      <td>5248.60</td>\n",
       "    </tr>\n",
       "    <tr>\n",
       "      <th>3</th>\n",
       "      <td>2018-09-25</td>\n",
       "      <td>233.30</td>\n",
       "      <td>236.75</td>\n",
       "      <td>232.00</td>\n",
       "      <td>236.25</td>\n",
       "      <td>236.10</td>\n",
       "      <td>2349368</td>\n",
       "      <td>5503.90</td>\n",
       "    </tr>\n",
       "    <tr>\n",
       "      <th>4</th>\n",
       "      <td>2018-09-24</td>\n",
       "      <td>233.55</td>\n",
       "      <td>239.20</td>\n",
       "      <td>230.75</td>\n",
       "      <td>234.00</td>\n",
       "      <td>233.30</td>\n",
       "      <td>3423509</td>\n",
       "      <td>7999.55</td>\n",
       "    </tr>\n",
       "    <tr>\n",
       "      <th>5</th>\n",
       "      <td>2018-09-21</td>\n",
       "      <td>235.00</td>\n",
       "      <td>237.00</td>\n",
       "      <td>227.95</td>\n",
       "      <td>233.75</td>\n",
       "      <td>234.60</td>\n",
       "      <td>5395319</td>\n",
       "      <td>12589.59</td>\n",
       "    </tr>\n",
       "    <tr>\n",
       "      <th>6</th>\n",
       "      <td>2018-09-19</td>\n",
       "      <td>235.95</td>\n",
       "      <td>237.20</td>\n",
       "      <td>233.45</td>\n",
       "      <td>234.60</td>\n",
       "      <td>234.90</td>\n",
       "      <td>1362058</td>\n",
       "      <td>3202.78</td>\n",
       "    </tr>\n",
       "    <tr>\n",
       "      <th>7</th>\n",
       "      <td>2018-09-18</td>\n",
       "      <td>237.90</td>\n",
       "      <td>239.25</td>\n",
       "      <td>233.50</td>\n",
       "      <td>235.50</td>\n",
       "      <td>235.05</td>\n",
       "      <td>2614794</td>\n",
       "      <td>6163.70</td>\n",
       "    </tr>\n",
       "    <tr>\n",
       "      <th>8</th>\n",
       "      <td>2018-09-17</td>\n",
       "      <td>233.15</td>\n",
       "      <td>238.00</td>\n",
       "      <td>230.25</td>\n",
       "      <td>236.40</td>\n",
       "      <td>236.60</td>\n",
       "      <td>3170894</td>\n",
       "      <td>7445.41</td>\n",
       "    </tr>\n",
       "    <tr>\n",
       "      <th>9</th>\n",
       "      <td>2018-09-14</td>\n",
       "      <td>223.45</td>\n",
       "      <td>236.70</td>\n",
       "      <td>223.30</td>\n",
       "      <td>234.00</td>\n",
       "      <td>233.95</td>\n",
       "      <td>6377909</td>\n",
       "      <td>14784.50</td>\n",
       "    </tr>\n",
       "  </tbody>\n",
       "</table>\n",
       "</div>"
      ],
      "text/plain": [
       "         Date    Open    High     Low    Last   Close  Total Trade Quantity  \\\n",
       "0  2018-09-28  234.05  235.95  230.20  233.50  233.75               3069914   \n",
       "1  2018-09-27  234.55  236.80  231.10  233.80  233.25               5082859   \n",
       "2  2018-09-26  240.00  240.00  232.50  235.00  234.25               2240909   \n",
       "3  2018-09-25  233.30  236.75  232.00  236.25  236.10               2349368   \n",
       "4  2018-09-24  233.55  239.20  230.75  234.00  233.30               3423509   \n",
       "5  2018-09-21  235.00  237.00  227.95  233.75  234.60               5395319   \n",
       "6  2018-09-19  235.95  237.20  233.45  234.60  234.90               1362058   \n",
       "7  2018-09-18  237.90  239.25  233.50  235.50  235.05               2614794   \n",
       "8  2018-09-17  233.15  238.00  230.25  236.40  236.60               3170894   \n",
       "9  2018-09-14  223.45  236.70  223.30  234.00  233.95               6377909   \n",
       "\n",
       "   Turnover (Lacs)  \n",
       "0          7162.35  \n",
       "1         11859.95  \n",
       "2          5248.60  \n",
       "3          5503.90  \n",
       "4          7999.55  \n",
       "5         12589.59  \n",
       "6          3202.78  \n",
       "7          6163.70  \n",
       "8          7445.41  \n",
       "9         14784.50  "
      ]
     },
     "execution_count": 3,
     "metadata": {},
     "output_type": "execute_result"
    }
   ],
   "source": [
    "data.head(10)"
   ]
  },
  {
   "cell_type": "code",
   "execution_count": 4,
   "metadata": {},
   "outputs": [
    {
     "data": {
      "text/html": [
       "<div>\n",
       "<style scoped>\n",
       "    .dataframe tbody tr th:only-of-type {\n",
       "        vertical-align: middle;\n",
       "    }\n",
       "\n",
       "    .dataframe tbody tr th {\n",
       "        vertical-align: top;\n",
       "    }\n",
       "\n",
       "    .dataframe thead th {\n",
       "        text-align: right;\n",
       "    }\n",
       "</style>\n",
       "<table border=\"1\" class=\"dataframe\">\n",
       "  <thead>\n",
       "    <tr style=\"text-align: right;\">\n",
       "      <th></th>\n",
       "      <th>Date</th>\n",
       "      <th>Open</th>\n",
       "      <th>High</th>\n",
       "      <th>Low</th>\n",
       "      <th>Last</th>\n",
       "      <th>Close</th>\n",
       "      <th>Total Trade Quantity</th>\n",
       "      <th>Turnover (Lacs)</th>\n",
       "    </tr>\n",
       "  </thead>\n",
       "  <tbody>\n",
       "    <tr>\n",
       "      <th>2030</th>\n",
       "      <td>2010-07-27</td>\n",
       "      <td>117.6</td>\n",
       "      <td>119.50</td>\n",
       "      <td>112.00</td>\n",
       "      <td>118.80</td>\n",
       "      <td>118.65</td>\n",
       "      <td>586100</td>\n",
       "      <td>694.98</td>\n",
       "    </tr>\n",
       "    <tr>\n",
       "      <th>2031</th>\n",
       "      <td>2010-07-26</td>\n",
       "      <td>120.1</td>\n",
       "      <td>121.00</td>\n",
       "      <td>117.10</td>\n",
       "      <td>117.10</td>\n",
       "      <td>117.60</td>\n",
       "      <td>658440</td>\n",
       "      <td>780.01</td>\n",
       "    </tr>\n",
       "    <tr>\n",
       "      <th>2032</th>\n",
       "      <td>2010-07-23</td>\n",
       "      <td>121.8</td>\n",
       "      <td>121.95</td>\n",
       "      <td>120.25</td>\n",
       "      <td>120.35</td>\n",
       "      <td>120.65</td>\n",
       "      <td>281312</td>\n",
       "      <td>340.31</td>\n",
       "    </tr>\n",
       "    <tr>\n",
       "      <th>2033</th>\n",
       "      <td>2010-07-22</td>\n",
       "      <td>120.3</td>\n",
       "      <td>122.00</td>\n",
       "      <td>120.25</td>\n",
       "      <td>120.75</td>\n",
       "      <td>120.90</td>\n",
       "      <td>293312</td>\n",
       "      <td>355.17</td>\n",
       "    </tr>\n",
       "    <tr>\n",
       "      <th>2034</th>\n",
       "      <td>2010-07-21</td>\n",
       "      <td>122.1</td>\n",
       "      <td>123.00</td>\n",
       "      <td>121.05</td>\n",
       "      <td>121.10</td>\n",
       "      <td>121.55</td>\n",
       "      <td>658666</td>\n",
       "      <td>803.56</td>\n",
       "    </tr>\n",
       "  </tbody>\n",
       "</table>\n",
       "</div>"
      ],
      "text/plain": [
       "            Date   Open    High     Low    Last   Close  Total Trade Quantity  \\\n",
       "2030  2010-07-27  117.6  119.50  112.00  118.80  118.65                586100   \n",
       "2031  2010-07-26  120.1  121.00  117.10  117.10  117.60                658440   \n",
       "2032  2010-07-23  121.8  121.95  120.25  120.35  120.65                281312   \n",
       "2033  2010-07-22  120.3  122.00  120.25  120.75  120.90                293312   \n",
       "2034  2010-07-21  122.1  123.00  121.05  121.10  121.55                658666   \n",
       "\n",
       "      Turnover (Lacs)  \n",
       "2030           694.98  \n",
       "2031           780.01  \n",
       "2032           340.31  \n",
       "2033           355.17  \n",
       "2034           803.56  "
      ]
     },
     "execution_count": 4,
     "metadata": {},
     "output_type": "execute_result"
    }
   ],
   "source": [
    "data.tail(5)"
   ]
  },
  {
   "cell_type": "code",
   "execution_count": 5,
   "metadata": {},
   "outputs": [
    {
     "data": {
      "text/plain": [
       "(2035, 8)"
      ]
     },
     "execution_count": 5,
     "metadata": {},
     "output_type": "execute_result"
    }
   ],
   "source": [
    "data.shape"
   ]
  },
  {
   "cell_type": "code",
   "execution_count": 6,
   "metadata": {},
   "outputs": [
    {
     "data": {
      "text/plain": [
       "Index(['Date', 'Open', 'High', 'Low', 'Last', 'Close', 'Total Trade Quantity',\n",
       "       'Turnover (Lacs)'],\n",
       "      dtype='object')"
      ]
     },
     "execution_count": 6,
     "metadata": {},
     "output_type": "execute_result"
    }
   ],
   "source": [
    "data.columns"
   ]
  },
  {
   "cell_type": "code",
   "execution_count": 7,
   "metadata": {},
   "outputs": [
    {
     "name": "stdout",
     "output_type": "stream",
     "text": [
      "<class 'pandas.core.frame.DataFrame'>\n",
      "RangeIndex: 2035 entries, 0 to 2034\n",
      "Data columns (total 8 columns):\n",
      " #   Column                Non-Null Count  Dtype  \n",
      "---  ------                --------------  -----  \n",
      " 0   Date                  2035 non-null   object \n",
      " 1   Open                  2035 non-null   float64\n",
      " 2   High                  2035 non-null   float64\n",
      " 3   Low                   2035 non-null   float64\n",
      " 4   Last                  2035 non-null   float64\n",
      " 5   Close                 2035 non-null   float64\n",
      " 6   Total Trade Quantity  2035 non-null   int64  \n",
      " 7   Turnover (Lacs)       2035 non-null   float64\n",
      "dtypes: float64(6), int64(1), object(1)\n",
      "memory usage: 127.3+ KB\n"
     ]
    }
   ],
   "source": [
    "data.info()"
   ]
  },
  {
   "cell_type": "code",
   "execution_count": 8,
   "metadata": {},
   "outputs": [
    {
     "data": {
      "text/plain": [
       "Date                    0\n",
       "Open                    0\n",
       "High                    0\n",
       "Low                     0\n",
       "Last                    0\n",
       "Close                   0\n",
       "Total Trade Quantity    0\n",
       "Turnover (Lacs)         0\n",
       "dtype: int64"
      ]
     },
     "execution_count": 8,
     "metadata": {},
     "output_type": "execute_result"
    }
   ],
   "source": [
    "data.isnull().sum()"
   ]
  },
  {
   "cell_type": "code",
   "execution_count": 9,
   "metadata": {},
   "outputs": [
    {
     "data": {
      "text/html": [
       "<div>\n",
       "<style scoped>\n",
       "    .dataframe tbody tr th:only-of-type {\n",
       "        vertical-align: middle;\n",
       "    }\n",
       "\n",
       "    .dataframe tbody tr th {\n",
       "        vertical-align: top;\n",
       "    }\n",
       "\n",
       "    .dataframe thead th {\n",
       "        text-align: right;\n",
       "    }\n",
       "</style>\n",
       "<table border=\"1\" class=\"dataframe\">\n",
       "  <thead>\n",
       "    <tr style=\"text-align: right;\">\n",
       "      <th></th>\n",
       "      <th>Open</th>\n",
       "      <th>High</th>\n",
       "      <th>Low</th>\n",
       "      <th>Last</th>\n",
       "      <th>Close</th>\n",
       "      <th>Total Trade Quantity</th>\n",
       "      <th>Turnover (Lacs)</th>\n",
       "    </tr>\n",
       "  </thead>\n",
       "  <tbody>\n",
       "    <tr>\n",
       "      <th>count</th>\n",
       "      <td>2035.000000</td>\n",
       "      <td>2035.000000</td>\n",
       "      <td>2035.000000</td>\n",
       "      <td>2035.000000</td>\n",
       "      <td>2035.00000</td>\n",
       "      <td>2.035000e+03</td>\n",
       "      <td>2035.000000</td>\n",
       "    </tr>\n",
       "    <tr>\n",
       "      <th>mean</th>\n",
       "      <td>149.713735</td>\n",
       "      <td>151.992826</td>\n",
       "      <td>147.293931</td>\n",
       "      <td>149.474251</td>\n",
       "      <td>149.45027</td>\n",
       "      <td>2.335681e+06</td>\n",
       "      <td>3899.980565</td>\n",
       "    </tr>\n",
       "    <tr>\n",
       "      <th>std</th>\n",
       "      <td>48.664509</td>\n",
       "      <td>49.413109</td>\n",
       "      <td>47.931958</td>\n",
       "      <td>48.732570</td>\n",
       "      <td>48.71204</td>\n",
       "      <td>2.091778e+06</td>\n",
       "      <td>4570.767877</td>\n",
       "    </tr>\n",
       "    <tr>\n",
       "      <th>min</th>\n",
       "      <td>81.100000</td>\n",
       "      <td>82.800000</td>\n",
       "      <td>80.000000</td>\n",
       "      <td>81.000000</td>\n",
       "      <td>80.95000</td>\n",
       "      <td>3.961000e+04</td>\n",
       "      <td>37.040000</td>\n",
       "    </tr>\n",
       "    <tr>\n",
       "      <th>25%</th>\n",
       "      <td>120.025000</td>\n",
       "      <td>122.100000</td>\n",
       "      <td>118.300000</td>\n",
       "      <td>120.075000</td>\n",
       "      <td>120.05000</td>\n",
       "      <td>1.146444e+06</td>\n",
       "      <td>1427.460000</td>\n",
       "    </tr>\n",
       "    <tr>\n",
       "      <th>50%</th>\n",
       "      <td>141.500000</td>\n",
       "      <td>143.400000</td>\n",
       "      <td>139.600000</td>\n",
       "      <td>141.100000</td>\n",
       "      <td>141.25000</td>\n",
       "      <td>1.783456e+06</td>\n",
       "      <td>2512.030000</td>\n",
       "    </tr>\n",
       "    <tr>\n",
       "      <th>75%</th>\n",
       "      <td>157.175000</td>\n",
       "      <td>159.400000</td>\n",
       "      <td>155.150000</td>\n",
       "      <td>156.925000</td>\n",
       "      <td>156.90000</td>\n",
       "      <td>2.813594e+06</td>\n",
       "      <td>4539.015000</td>\n",
       "    </tr>\n",
       "    <tr>\n",
       "      <th>max</th>\n",
       "      <td>327.700000</td>\n",
       "      <td>328.750000</td>\n",
       "      <td>321.650000</td>\n",
       "      <td>325.950000</td>\n",
       "      <td>325.75000</td>\n",
       "      <td>2.919102e+07</td>\n",
       "      <td>55755.080000</td>\n",
       "    </tr>\n",
       "  </tbody>\n",
       "</table>\n",
       "</div>"
      ],
      "text/plain": [
       "              Open         High          Low         Last       Close  \\\n",
       "count  2035.000000  2035.000000  2035.000000  2035.000000  2035.00000   \n",
       "mean    149.713735   151.992826   147.293931   149.474251   149.45027   \n",
       "std      48.664509    49.413109    47.931958    48.732570    48.71204   \n",
       "min      81.100000    82.800000    80.000000    81.000000    80.95000   \n",
       "25%     120.025000   122.100000   118.300000   120.075000   120.05000   \n",
       "50%     141.500000   143.400000   139.600000   141.100000   141.25000   \n",
       "75%     157.175000   159.400000   155.150000   156.925000   156.90000   \n",
       "max     327.700000   328.750000   321.650000   325.950000   325.75000   \n",
       "\n",
       "       Total Trade Quantity  Turnover (Lacs)  \n",
       "count          2.035000e+03      2035.000000  \n",
       "mean           2.335681e+06      3899.980565  \n",
       "std            2.091778e+06      4570.767877  \n",
       "min            3.961000e+04        37.040000  \n",
       "25%            1.146444e+06      1427.460000  \n",
       "50%            1.783456e+06      2512.030000  \n",
       "75%            2.813594e+06      4539.015000  \n",
       "max            2.919102e+07     55755.080000  "
      ]
     },
     "execution_count": 9,
     "metadata": {},
     "output_type": "execute_result"
    }
   ],
   "source": [
    "data.describe()"
   ]
  },
  {
   "cell_type": "markdown",
   "metadata": {},
   "source": [
    "#### PICKING UP CLOSE COLUMN"
   ]
  },
  {
   "cell_type": "code",
   "execution_count": 10,
   "metadata": {},
   "outputs": [],
   "source": [
    "data1 = data.reset_index()['Close']"
   ]
  },
  {
   "cell_type": "code",
   "execution_count": 11,
   "metadata": {},
   "outputs": [
    {
     "data": {
      "text/plain": [
       "0       233.75\n",
       "1       233.25\n",
       "2       234.25\n",
       "3       236.10\n",
       "4       233.30\n",
       "         ...  \n",
       "2030    118.65\n",
       "2031    117.60\n",
       "2032    120.65\n",
       "2033    120.90\n",
       "2034    121.55\n",
       "Name: Close, Length: 2035, dtype: float64"
      ]
     },
     "execution_count": 11,
     "metadata": {},
     "output_type": "execute_result"
    }
   ],
   "source": [
    "data1"
   ]
  },
  {
   "cell_type": "code",
   "execution_count": 12,
   "metadata": {},
   "outputs": [
    {
     "data": {
      "text/plain": [
       "(2035,)"
      ]
     },
     "execution_count": 12,
     "metadata": {},
     "output_type": "execute_result"
    }
   ],
   "source": [
    "data1.shape"
   ]
  },
  {
   "cell_type": "markdown",
   "metadata": {},
   "source": [
    "#### VISUALIZING"
   ]
  },
  {
   "cell_type": "code",
   "execution_count": 13,
   "metadata": {},
   "outputs": [
    {
     "data": {
      "text/plain": [
       "Text(0, 0.5, 'Y-axis')"
      ]
     },
     "execution_count": 13,
     "metadata": {},
     "output_type": "execute_result"
    },
    {
     "data": {
      "image/png": "[encoded data removed]",
      "text/plain": [
       "<Figure size 432x288 with 1 Axes>"
      ]
     },
     "metadata": {
      "needs_background": "light"
     },
     "output_type": "display_data"
    }
   ],
   "source": [
    "plt.plot(data1)\n",
    "plt.title(\"Stacked Index View\")\n",
    "plt.xlabel(\"X-axis\")\n",
    "plt.ylabel(\"Y-axis\")"
   ]
  },
  {
   "cell_type": "markdown",
   "metadata": {},
   "source": [
    "### MIN-MAX SCALER"
   ]
  },
  {
   "cell_type": "markdown",
   "metadata": {},
   "source": [
    "LSTM are sensitive to the scale of the data, so using Min-Max scaler to transform the values from 0 to 1. So in order to do that we need to reshape so that we can fit transform"
   ]
  },
  {
   "cell_type": "code",
   "execution_count": 14,
   "metadata": {},
   "outputs": [],
   "source": [
    "from sklearn.preprocessing import MinMaxScaler"
   ]
  },
  {
   "cell_type": "code",
   "execution_count": 15,
   "metadata": {},
   "outputs": [],
   "source": [
    "scaler = MinMaxScaler(feature_range = (0,1))\n",
    "data1 = scaler.fit_transform(np.array(data1).reshape(-1,1))"
   ]
  },
  {
   "cell_type": "markdown",
   "metadata": {},
   "source": [
    "Now the data1 is transformed into an array and it now having the values between zero to one\n"
   ]
  },
  {
   "cell_type": "code",
   "execution_count": 16,
   "metadata": {},
   "outputs": [
    {
     "data": {
      "text/plain": [
       "array([[0.62418301],\n",
       "       [0.62214052],\n",
       "       [0.62622549],\n",
       "       ...,\n",
       "       [0.1621732 ],\n",
       "       [0.16319444],\n",
       "       [0.16584967]])"
      ]
     },
     "execution_count": 16,
     "metadata": {},
     "output_type": "execute_result"
    }
   ],
   "source": [
    "data1"
   ]
  },
  {
   "cell_type": "code",
   "execution_count": 17,
   "metadata": {},
   "outputs": [
    {
     "data": {
      "text/plain": [
       "(2035, 1)"
      ]
     },
     "execution_count": 17,
     "metadata": {},
     "output_type": "execute_result"
    }
   ],
   "source": [
    "data1.shape"
   ]
  },
  {
   "cell_type": "markdown",
   "metadata": {},
   "source": [
    "### TRAIN TEST SPLIT"
   ]
  },
  {
   "cell_type": "markdown",
   "metadata": {},
   "source": [
    " Since we are going to train the Time series data so one data is dependent on other data therefore the training size should be 65% of the total length of the data frame whereas the test size should be the difference between the length of the dataset and the training size"
   ]
  },
  {
   "cell_type": "code",
   "execution_count": 18,
   "metadata": {},
   "outputs": [],
   "source": [
    "train_size = int(len(data1)*0.65)\n",
    "test_size = len(data1) - train_size\n",
    "train_data, test_data = data1[0:train_size,:],data1[train_size:len(data1),:1]"
   ]
  },
  {
   "cell_type": "code",
   "execution_count": 19,
   "metadata": {},
   "outputs": [
    {
     "data": {
      "text/plain": [
       "(1322, 713)"
      ]
     },
     "execution_count": 19,
     "metadata": {},
     "output_type": "execute_result"
    }
   ],
   "source": [
    "train_size,test_size"
   ]
  },
  {
   "cell_type": "code",
   "execution_count": 20,
   "metadata": {},
   "outputs": [
    {
     "data": {
      "text/plain": [
       "(array([[0.62418301],\n",
       "        [0.62214052],\n",
       "        [0.62622549],\n",
       "        ...,\n",
       "        [0.25347222],\n",
       "        [0.26041667],\n",
       "        [0.2563317 ]]),\n",
       " array([[0.24652778],\n",
       "        [0.23611111],\n",
       "        [0.25204248],\n",
       "        [0.25919118],\n",
       "        [0.25776144],\n",
       "        [0.2681781 ],\n",
       "        [0.25449346],\n",
       "        [0.27103758],\n",
       "        [0.24530229],\n",
       "        [0.26756536],\n",
       "        [0.27267157],\n",
       "        [0.26633987],\n",
       "        [0.27410131],\n",
       "        [0.28615196],\n",
       "        [0.27818627],\n",
       "        [0.27205882],\n",
       "        [0.27124183],\n",
       "        [0.27798203],\n",
       "        [0.27083333],\n",
       "        [0.25857843],\n",
       "        [0.24285131],\n",
       "        [0.2250817 ],\n",
       "        [0.23447712],\n",
       "        [0.24346405],\n",
       "        [0.23611111],\n",
       "        [0.22937092],\n",
       "        [0.21527778],\n",
       "        [0.20976307],\n",
       "        [0.20751634],\n",
       "        [0.2060866 ],\n",
       "        [0.20445261],\n",
       "        [0.20098039],\n",
       "        [0.21180556],\n",
       "        [0.19301471],\n",
       "        [0.18974673],\n",
       "        [0.20302288],\n",
       "        [0.21752451],\n",
       "        [0.20629085],\n",
       "        [0.19158497],\n",
       "        [0.17381536],\n",
       "        [0.17401961],\n",
       "        [0.18361928],\n",
       "        [0.17830882],\n",
       "        [0.19362745],\n",
       "        [0.20098039],\n",
       "        [0.20486111],\n",
       "        [0.21425654],\n",
       "        [0.21813725],\n",
       "        [0.21466503],\n",
       "        [0.21343954],\n",
       "        [0.21160131],\n",
       "        [0.21711601],\n",
       "        [0.20710784],\n",
       "        [0.2005719 ],\n",
       "        [0.20874183],\n",
       "        [0.18647876],\n",
       "        [0.19199346],\n",
       "        [0.1807598 ],\n",
       "        [0.20935458],\n",
       "        [0.20792484],\n",
       "        [0.21425654],\n",
       "        [0.23366013],\n",
       "        [0.23304739],\n",
       "        [0.26184641],\n",
       "        [0.26715686],\n",
       "        [0.24897876],\n",
       "        [0.24550654],\n",
       "        [0.2373366 ],\n",
       "        [0.24754902],\n",
       "        [0.2495915 ],\n",
       "        [0.24448529],\n",
       "        [0.25142974],\n",
       "        [0.26102941],\n",
       "        [0.2504085 ],\n",
       "        [0.24734477],\n",
       "        [0.2622549 ],\n",
       "        [0.2689951 ],\n",
       "        [0.27941176],\n",
       "        [0.25714869],\n",
       "        [0.27287582],\n",
       "        [0.27246732],\n",
       "        [0.27389706],\n",
       "        [0.26368464],\n",
       "        [0.27798203],\n",
       "        [0.28962418],\n",
       "        [0.29840686],\n",
       "        [0.2943219 ],\n",
       "        [0.30228758],\n",
       "        [0.30861928],\n",
       "        [0.31699346],\n",
       "        [0.32066993],\n",
       "        [0.31740196],\n",
       "        [0.32700163],\n",
       "        [0.33292484],\n",
       "        [0.33823529],\n",
       "        [0.33415033],\n",
       "        [0.33986928],\n",
       "        [0.34681373],\n",
       "        [0.3500817 ],\n",
       "        [0.32618464],\n",
       "        [0.32271242],\n",
       "        [0.3247549 ],\n",
       "        [0.32148693],\n",
       "        [0.32352941],\n",
       "        [0.3255719 ],\n",
       "        [0.32638889],\n",
       "        [0.33496732],\n",
       "        [0.34395425],\n",
       "        [0.3441585 ],\n",
       "        [0.34599673],\n",
       "        [0.35866013],\n",
       "        [0.35580065],\n",
       "        [0.37214052],\n",
       "        [0.36294935],\n",
       "        [0.3754085 ],\n",
       "        [0.36315359],\n",
       "        [0.34640523],\n",
       "        [0.34579248],\n",
       "        [0.34844771],\n",
       "        [0.35784314],\n",
       "        [0.34722222],\n",
       "        [0.33353758],\n",
       "        [0.33537582],\n",
       "        [0.33680556],\n",
       "        [0.33680556],\n",
       "        [0.32271242],\n",
       "        [0.32638889],\n",
       "        [0.3188317 ],\n",
       "        [0.33986928],\n",
       "        [0.37765523],\n",
       "        [0.3999183 ],\n",
       "        [0.36968954],\n",
       "        [0.35886438],\n",
       "        [0.35927288],\n",
       "        [0.35294118],\n",
       "        [0.32107843],\n",
       "        [0.31413399],\n",
       "        [0.31740196],\n",
       "        [0.31597222],\n",
       "        [0.32209967],\n",
       "        [0.28267974],\n",
       "        [0.28492647],\n",
       "        [0.27389706],\n",
       "        [0.28778595],\n",
       "        [0.30187908],\n",
       "        [0.31045752],\n",
       "        [0.32128268],\n",
       "        [0.31454248],\n",
       "        [0.33129085],\n",
       "        [0.33292484],\n",
       "        [0.32802288],\n",
       "        [0.32291667],\n",
       "        [0.32802288],\n",
       "        [0.32312092],\n",
       "        [0.30718954],\n",
       "        [0.29595588],\n",
       "        [0.30473856],\n",
       "        [0.28288399],\n",
       "        [0.28982843],\n",
       "        [0.30412582],\n",
       "        [0.26429739],\n",
       "        [0.25285948],\n",
       "        [0.20710784],\n",
       "        [0.20261438],\n",
       "        [0.19566993],\n",
       "        [0.19546569],\n",
       "        [0.20465686],\n",
       "        [0.18974673],\n",
       "        [0.19934641],\n",
       "        [0.1942402 ],\n",
       "        [0.21527778],\n",
       "        [0.21629902],\n",
       "        [0.2183415 ],\n",
       "        [0.21997549],\n",
       "        [0.22222222],\n",
       "        [0.22753268],\n",
       "        [0.22732843],\n",
       "        [0.22324346],\n",
       "        [0.21527778],\n",
       "        [0.20690359],\n",
       "        [0.20200163],\n",
       "        [0.19955065],\n",
       "        [0.20159314],\n",
       "        [0.1807598 ],\n",
       "        [0.19178922],\n",
       "        [0.19403595],\n",
       "        [0.19566993],\n",
       "        [0.20445261],\n",
       "        [0.20772059],\n",
       "        [0.21221405],\n",
       "        [0.21956699],\n",
       "        [0.21629902],\n",
       "        [0.21629902],\n",
       "        [0.22140523],\n",
       "        [0.2120098 ],\n",
       "        [0.20547386],\n",
       "        [0.20077614],\n",
       "        [0.1997549 ],\n",
       "        [0.2001634 ],\n",
       "        [0.20506536],\n",
       "        [0.2005719 ],\n",
       "        [0.18831699],\n",
       "        [0.18811275],\n",
       "        [0.17034314],\n",
       "        [0.1621732 ],\n",
       "        [0.15972222],\n",
       "        [0.16278595],\n",
       "        [0.17340686],\n",
       "        [0.14174837],\n",
       "        [0.15441176],\n",
       "        [0.16503268],\n",
       "        [0.15563725],\n",
       "        [0.14460784],\n",
       "        [0.13684641],\n",
       "        [0.13582516],\n",
       "        [0.14072712],\n",
       "        [0.14501634],\n",
       "        [0.14195261],\n",
       "        [0.13562092],\n",
       "        [0.15053105],\n",
       "        [0.15727124],\n",
       "        [0.15461601],\n",
       "        [0.15767974],\n",
       "        [0.15114379],\n",
       "        [0.14297386],\n",
       "        [0.14215686],\n",
       "        [0.14787582],\n",
       "        [0.13970588],\n",
       "        [0.11642157],\n",
       "        [0.11131536],\n",
       "        [0.10927288],\n",
       "        [0.10334967],\n",
       "        [0.09783497],\n",
       "        [0.10089869],\n",
       "        [0.10906863],\n",
       "        [0.10171569],\n",
       "        [0.11254085],\n",
       "        [0.12704248],\n",
       "        [0.12214052],\n",
       "        [0.12704248],\n",
       "        [0.11519608],\n",
       "        [0.11008987],\n",
       "        [0.0996732 ],\n",
       "        [0.09640523],\n",
       "        [0.10089869],\n",
       "        [0.10886438],\n",
       "        [0.10866013],\n",
       "        [0.1186683 ],\n",
       "        [0.12316176],\n",
       "        [0.11029412],\n",
       "        [0.11703431],\n",
       "        [0.11008987],\n",
       "        [0.1064134 ],\n",
       "        [0.10559641],\n",
       "        [0.1004902 ],\n",
       "        [0.10784314],\n",
       "        [0.10988562],\n",
       "        [0.09763072],\n",
       "        [0.09027778],\n",
       "        [0.1123366 ],\n",
       "        [0.12867647],\n",
       "        [0.12071078],\n",
       "        [0.13031046],\n",
       "        [0.1439951 ],\n",
       "        [0.13664216],\n",
       "        [0.14910131],\n",
       "        [0.15686275],\n",
       "        [0.14685458],\n",
       "        [0.14481209],\n",
       "        [0.14195261],\n",
       "        [0.14093137],\n",
       "        [0.14583333],\n",
       "        [0.15339052],\n",
       "        [0.14889706],\n",
       "        [0.16646242],\n",
       "        [0.17585784],\n",
       "        [0.15604575],\n",
       "        [0.15522876],\n",
       "        [0.15339052],\n",
       "        [0.14644608],\n",
       "        [0.16441993],\n",
       "        [0.15236928],\n",
       "        [0.14889706],\n",
       "        [0.14705882],\n",
       "        [0.15012255],\n",
       "        [0.15522876],\n",
       "        [0.14052288],\n",
       "        [0.12826797],\n",
       "        [0.11172386],\n",
       "        [0.11805556],\n",
       "        [0.11887255],\n",
       "        [0.11519608],\n",
       "        [0.12969771],\n",
       "        [0.12254902],\n",
       "        [0.13786765],\n",
       "        [0.1313317 ],\n",
       "        [0.11744281],\n",
       "        [0.13071895],\n",
       "        [0.1431781 ],\n",
       "        [0.16115196],\n",
       "        [0.15175654],\n",
       "        [0.14644608],\n",
       "        [0.15216503],\n",
       "        [0.1435866 ],\n",
       "        [0.13419118],\n",
       "        [0.1431781 ],\n",
       "        [0.16115196],\n",
       "        [0.16176471],\n",
       "        [0.17320261],\n",
       "        [0.18218954],\n",
       "        [0.16237745],\n",
       "        [0.13112745],\n",
       "        [0.15931373],\n",
       "        [0.15951797],\n",
       "        [0.14808007],\n",
       "        [0.16278595],\n",
       "        [0.15625   ],\n",
       "        [0.16319444],\n",
       "        [0.16360294],\n",
       "        [0.16278595],\n",
       "        [0.16544118],\n",
       "        [0.15522876],\n",
       "        [0.17197712],\n",
       "        [0.1503268 ],\n",
       "        [0.13255719],\n",
       "        [0.14338235],\n",
       "        [0.15849673],\n",
       "        [0.1186683 ],\n",
       "        [0.11519608],\n",
       "        [0.10947712],\n",
       "        [0.0692402 ],\n",
       "        [0.06597222],\n",
       "        [0.05841503],\n",
       "        [0.05044935],\n",
       "        [0.04534314],\n",
       "        [0.04779412],\n",
       "        [0.05290033],\n",
       "        [0.04922386],\n",
       "        [0.06638072],\n",
       "        [0.07169118],\n",
       "        [0.05392157],\n",
       "        [0.04881536],\n",
       "        [0.04881536],\n",
       "        [0.05310458],\n",
       "        [0.04963235],\n",
       "        [0.05065359],\n",
       "        [0.05126634],\n",
       "        [0.04963235],\n",
       "        [0.05902778],\n",
       "        [0.05555556],\n",
       "        [0.04084967],\n",
       "        [0.03737745],\n",
       "        [0.03737745],\n",
       "        [0.02655229],\n",
       "        [0.02879902],\n",
       "        [0.0316585 ],\n",
       "        [0.0316585 ],\n",
       "        [0.03635621],\n",
       "        [0.02205882],\n",
       "        [0.01674837],\n",
       "        [0.01450163],\n",
       "        [0.02226307],\n",
       "        [0.03615196],\n",
       "        [0.02675654],\n",
       "        [0.03206699],\n",
       "        [0.02696078],\n",
       "        [0.03574346],\n",
       "        [0.03594771],\n",
       "        [0.04044118],\n",
       "        [0.03921569],\n",
       "        [0.04411765],\n",
       "        [0.02982026],\n",
       "        [0.0122549 ],\n",
       "        [0.01286765],\n",
       "        [0.01143791],\n",
       "        [0.00245098],\n",
       "        [0.0059232 ],\n",
       "        [0.        ],\n",
       "        [0.00714869],\n",
       "        [0.00428922],\n",
       "        [0.0067402 ],\n",
       "        [0.0063317 ],\n",
       "        [0.01123366],\n",
       "        [0.01960784],\n",
       "        [0.02757353],\n",
       "        [0.03002451],\n",
       "        [0.03349673],\n",
       "        [0.04003268],\n",
       "        [0.04084967],\n",
       "        [0.03982843],\n",
       "        [0.04166667],\n",
       "        [0.04370915],\n",
       "        [0.04758987],\n",
       "        [0.03594771],\n",
       "        [0.02839052],\n",
       "        [0.02410131],\n",
       "        [0.01715686],\n",
       "        [0.01531863],\n",
       "        [0.01756536],\n",
       "        [0.02696078],\n",
       "        [0.02696078],\n",
       "        [0.03819444],\n",
       "        [0.02839052],\n",
       "        [0.02369281],\n",
       "        [0.02920752],\n",
       "        [0.02328431],\n",
       "        [0.01919935],\n",
       "        [0.00653595],\n",
       "        [0.00061275],\n",
       "        [0.00796569],\n",
       "        [0.01245915],\n",
       "        [0.01981209],\n",
       "        [0.01940359],\n",
       "        [0.02246732],\n",
       "        [0.03125   ],\n",
       "        [0.02348856],\n",
       "        [0.0249183 ],\n",
       "        [0.02144608],\n",
       "        [0.04840686],\n",
       "        [0.04575163],\n",
       "        [0.03962418],\n",
       "        [0.03921569],\n",
       "        [0.04758987],\n",
       "        [0.04513889],\n",
       "        [0.04166667],\n",
       "        [0.04125817],\n",
       "        [0.05044935],\n",
       "        [0.05555556],\n",
       "        [0.05494281],\n",
       "        [0.05412582],\n",
       "        [0.0435049 ],\n",
       "        [0.04799837],\n",
       "        [0.05147059],\n",
       "        [0.05065359],\n",
       "        [0.03431373],\n",
       "        [0.04575163],\n",
       "        [0.04187092],\n",
       "        [0.04554739],\n",
       "        [0.03941993],\n",
       "        [0.02716503],\n",
       "        [0.03125   ],\n",
       "        [0.05882353],\n",
       "        [0.07148693],\n",
       "        [0.08721405],\n",
       "        [0.08986928],\n",
       "        [0.10498366],\n",
       "        [0.08905229],\n",
       "        [0.10355392],\n",
       "        [0.10375817],\n",
       "        [0.12275327],\n",
       "        [0.10906863],\n",
       "        [0.09660948],\n",
       "        [0.1064134 ],\n",
       "        [0.10457516],\n",
       "        [0.11049837],\n",
       "        [0.1127451 ],\n",
       "        [0.09803922],\n",
       "        [0.09987745],\n",
       "        [0.08925654],\n",
       "        [0.0747549 ],\n",
       "        [0.08169935],\n",
       "        [0.08925654],\n",
       "        [0.09068627],\n",
       "        [0.08129085],\n",
       "        [0.08823529],\n",
       "        [0.08455882],\n",
       "        [0.07945261],\n",
       "        [0.08374183],\n",
       "        [0.07781863],\n",
       "        [0.09824346],\n",
       "        [0.09089052],\n",
       "        [0.09007353],\n",
       "        [0.09558824],\n",
       "        [0.06862745],\n",
       "        [0.06372549],\n",
       "        [0.0494281 ],\n",
       "        [0.04799837],\n",
       "        [0.04534314],\n",
       "        [0.0443219 ],\n",
       "        [0.03941993],\n",
       "        [0.0379902 ],\n",
       "        [0.04656863],\n",
       "        [0.05085784],\n",
       "        [0.07209967],\n",
       "        [0.06535948],\n",
       "        [0.07230392],\n",
       "        [0.07802288],\n",
       "        [0.07741013],\n",
       "        [0.06086601],\n",
       "        [0.06413399],\n",
       "        [0.07046569],\n",
       "        [0.05412582],\n",
       "        [0.0498366 ],\n",
       "        [0.05167484],\n",
       "        [0.05330882],\n",
       "        [0.0435049 ],\n",
       "        [0.02634804],\n",
       "        [0.02410131],\n",
       "        [0.02961601],\n",
       "        [0.01960784],\n",
       "        [0.02961601],\n",
       "        [0.04575163],\n",
       "        [0.05923203],\n",
       "        [0.06678922],\n",
       "        [0.06229575],\n",
       "        [0.06311275],\n",
       "        [0.0629085 ],\n",
       "        [0.06658497],\n",
       "        [0.07434641],\n",
       "        [0.06944444],\n",
       "        [0.08088235],\n",
       "        [0.07700163],\n",
       "        [0.0684232 ],\n",
       "        [0.06781046],\n",
       "        [0.0629085 ],\n",
       "        [0.0692402 ],\n",
       "        [0.0755719 ],\n",
       "        [0.07781863],\n",
       "        [0.08088235],\n",
       "        [0.08843954],\n",
       "        [0.09395425],\n",
       "        [0.09599673],\n",
       "        [0.08660131],\n",
       "        [0.09027778],\n",
       "        [0.08517157],\n",
       "        [0.08374183],\n",
       "        [0.07945261],\n",
       "        [0.09109477],\n",
       "        [0.09129902],\n",
       "        [0.08803105],\n",
       "        [0.09681373],\n",
       "        [0.11417484],\n",
       "        [0.10498366],\n",
       "        [0.09987745],\n",
       "        [0.08537582],\n",
       "        [0.08047386],\n",
       "        [0.06862745],\n",
       "        [0.06576797],\n",
       "        [0.06147876],\n",
       "        [0.07169118],\n",
       "        [0.07026144],\n",
       "        [0.0747549 ],\n",
       "        [0.06821895],\n",
       "        [0.0692402 ],\n",
       "        [0.07066993],\n",
       "        [0.06801471],\n",
       "        [0.06678922],\n",
       "        [0.07414216],\n",
       "        [0.07169118],\n",
       "        [0.08639706],\n",
       "        [0.08312908],\n",
       "        [0.06311275],\n",
       "        [0.0629085 ],\n",
       "        [0.05167484],\n",
       "        [0.03186275],\n",
       "        [0.04003268],\n",
       "        [0.03860294],\n",
       "        [0.04105392],\n",
       "        [0.03390523],\n",
       "        [0.03125   ],\n",
       "        [0.02634804],\n",
       "        [0.05861928],\n",
       "        [0.06311275],\n",
       "        [0.0620915 ],\n",
       "        [0.05535131],\n",
       "        [0.08455882],\n",
       "        [0.05514706],\n",
       "        [0.06045752],\n",
       "        [0.0557598 ],\n",
       "        [0.0439134 ],\n",
       "        [0.02920752],\n",
       "        [0.02818627],\n",
       "        [0.04718137],\n",
       "        [0.06045752],\n",
       "        [0.05861928],\n",
       "        [0.06168301],\n",
       "        [0.06699346],\n",
       "        [0.07087418],\n",
       "        [0.0755719 ],\n",
       "        [0.07700163],\n",
       "        [0.10375817],\n",
       "        [0.10314542],\n",
       "        [0.10334967],\n",
       "        [0.10089869],\n",
       "        [0.10437092],\n",
       "        [0.09803922],\n",
       "        [0.09722222],\n",
       "        [0.09783497],\n",
       "        [0.09579248],\n",
       "        [0.09109477],\n",
       "        [0.09313725],\n",
       "        [0.08558007],\n",
       "        [0.09517974],\n",
       "        [0.11172386],\n",
       "        [0.12275327],\n",
       "        [0.12806373],\n",
       "        [0.1313317 ],\n",
       "        [0.12479575],\n",
       "        [0.11090686],\n",
       "        [0.10743464],\n",
       "        [0.11621732],\n",
       "        [0.11683007],\n",
       "        [0.11764706],\n",
       "        [0.12888072],\n",
       "        [0.12847222],\n",
       "        [0.13337418],\n",
       "        [0.14236111],\n",
       "        [0.14093137],\n",
       "        [0.13970588],\n",
       "        [0.13827614],\n",
       "        [0.13541667],\n",
       "        [0.13010621],\n",
       "        [0.12254902],\n",
       "        [0.12479575],\n",
       "        [0.13848039],\n",
       "        [0.14011438],\n",
       "        [0.13888889],\n",
       "        [0.13541667],\n",
       "        [0.14011438],\n",
       "        [0.1380719 ],\n",
       "        [0.13071895],\n",
       "        [0.13071895],\n",
       "        [0.12867647],\n",
       "        [0.11846405],\n",
       "        [0.14644608],\n",
       "        [0.14808007],\n",
       "        [0.15910948],\n",
       "        [0.15992647],\n",
       "        [0.15788399],\n",
       "        [0.16441993],\n",
       "        [0.17892157],\n",
       "        [0.17933007],\n",
       "        [0.19260621],\n",
       "        [0.20812908],\n",
       "        [0.18974673],\n",
       "        [0.18055556],\n",
       "        [0.18239379],\n",
       "        [0.17708333],\n",
       "        [0.17810458],\n",
       "        [0.18055556],\n",
       "        [0.17810458],\n",
       "        [0.17851307],\n",
       "        [0.19607843],\n",
       "        [0.18913399],\n",
       "        [0.18954248],\n",
       "        [0.19403595],\n",
       "        [0.19444444],\n",
       "        [0.20200163],\n",
       "        [0.19771242],\n",
       "        [0.19934641],\n",
       "        [0.19873366],\n",
       "        [0.1997549 ],\n",
       "        [0.2128268 ],\n",
       "        [0.21568627],\n",
       "        [0.20445261],\n",
       "        [0.21772876],\n",
       "        [0.21098856],\n",
       "        [0.21425654],\n",
       "        [0.19750817],\n",
       "        [0.18811275],\n",
       "        [0.17851307],\n",
       "        [0.17381536],\n",
       "        [0.16033497],\n",
       "        [0.16564542],\n",
       "        [0.17116013],\n",
       "        [0.17422386],\n",
       "        [0.18035131],\n",
       "        [0.17401961],\n",
       "        [0.16278595],\n",
       "        [0.16973039],\n",
       "        [0.17810458],\n",
       "        [0.17034314],\n",
       "        [0.16830065],\n",
       "        [0.17279412],\n",
       "        [0.17544935],\n",
       "        [0.18382353],\n",
       "        [0.19138072],\n",
       "        [0.18913399],\n",
       "        [0.19097222],\n",
       "        [0.17238562],\n",
       "        [0.16830065],\n",
       "        [0.1693219 ],\n",
       "        [0.17177288],\n",
       "        [0.16156046],\n",
       "        [0.14971405],\n",
       "        [0.1503268 ],\n",
       "        [0.15196078],\n",
       "        [0.14726307],\n",
       "        [0.14501634],\n",
       "        [0.14603758],\n",
       "        [0.12479575],\n",
       "        [0.13112745],\n",
       "        [0.11397059],\n",
       "        [0.1190768 ],\n",
       "        [0.12377451],\n",
       "        [0.13562092],\n",
       "        [0.12908497],\n",
       "        [0.13459967],\n",
       "        [0.12806373],\n",
       "        [0.13031046],\n",
       "        [0.12724673],\n",
       "        [0.13521242],\n",
       "        [0.14522059],\n",
       "        [0.15257353],\n",
       "        [0.14848856],\n",
       "        [0.14338235],\n",
       "        [0.14562908],\n",
       "        [0.15236928],\n",
       "        [0.15400327],\n",
       "        [0.14971405],\n",
       "        [0.1621732 ],\n",
       "        [0.16319444],\n",
       "        [0.16584967]]))"
      ]
     },
     "execution_count": 20,
     "metadata": {},
     "output_type": "execute_result"
    }
   ],
   "source": [
    "train_data,test_data"
   ]
  },
  {
   "cell_type": "markdown",
   "metadata": {},
   "source": [
    "### DATA PREPROCESSING"
   ]
  },
  {
   "cell_type": "markdown",
   "metadata": {},
   "source": [
    "Now, Splitting the data into x and y, the timestep value will be 100. In the 0th iteration the first 100 records will goes as first record and the 101 elements will be in the x. The 100 elements will be in the y"
   ]
  },
  {
   "cell_type": "markdown",
   "metadata": {},
   "source": [
    "converting an array of values into a dataset matrix"
   ]
  },
  {
   "cell_type": "code",
   "execution_count": 21,
   "metadata": {},
   "outputs": [],
   "source": [
    "def create_data(dataset,time_step =  1):\n",
    "    dataX, dataY = [], []\n",
    "    for i in range(len(dataset) - time_step - 1):\n",
    "        a = dataset[i:(i + time_step), 0]\n",
    "        dataX.append(a)\n",
    "        dataY.append(dataset[i + time_step, 0])\n",
    "    return np.array(dataX), np.array(dataY)"
   ]
  },
  {
   "cell_type": "code",
   "execution_count": 22,
   "metadata": {},
   "outputs": [],
   "source": [
    "time_step  = 100\n",
    "X_train, y_train = create_data(train_data,time_step)\n",
    "X_test,y_test = create_data(test_data,time_step)"
   ]
  },
  {
   "cell_type": "code",
   "execution_count": 23,
   "metadata": {},
   "outputs": [
    {
     "data": {
      "text/plain": [
       "array([[0.62418301, 0.62214052, 0.62622549, ..., 0.83455882, 0.86213235,\n",
       "        0.85273693],\n",
       "       [0.62214052, 0.62622549, 0.63378268, ..., 0.86213235, 0.85273693,\n",
       "        0.87111928],\n",
       "       [0.62622549, 0.63378268, 0.62234477, ..., 0.85273693, 0.87111928,\n",
       "        0.84497549],\n",
       "       ...,\n",
       "       [0.34517974, 0.31781046, 0.33047386, ..., 0.2816585 , 0.27001634,\n",
       "        0.26531863],\n",
       "       [0.31781046, 0.33047386, 0.32128268, ..., 0.27001634, 0.26531863,\n",
       "        0.27389706],\n",
       "       [0.33047386, 0.32128268, 0.34007353, ..., 0.26531863, 0.27389706,\n",
       "        0.25347222]])"
      ]
     },
     "execution_count": 23,
     "metadata": {},
     "output_type": "execute_result"
    }
   ],
   "source": [
    "X_train"
   ]
  },
  {
   "cell_type": "code",
   "execution_count": 24,
   "metadata": {},
   "outputs": [
    {
     "data": {
      "text/plain": [
       "((1221, 100), (1221,))"
      ]
     },
     "execution_count": 24,
     "metadata": {},
     "output_type": "execute_result"
    }
   ],
   "source": [
    "X_train.shape,y_train.shape"
   ]
  },
  {
   "cell_type": "code",
   "execution_count": 25,
   "metadata": {},
   "outputs": [
    {
     "data": {
      "text/plain": [
       "((612, 100), (612,))"
      ]
     },
     "execution_count": 25,
     "metadata": {},
     "output_type": "execute_result"
    }
   ],
   "source": [
    "X_test.shape,y_test.shape"
   ]
  },
  {
   "cell_type": "markdown",
   "metadata": {},
   "source": [
    "Before implementing the LSTM, we should always reshape our X_train in 3D and add 1, the reason behind it is the time step and the 1 is given to the LSTM"
   ]
  },
  {
   "cell_type": "code",
   "execution_count": 26,
   "metadata": {},
   "outputs": [],
   "source": [
    "X_train = X_train.reshape(X_train.shape[0],X_train.shape[1], 1)\n",
    "X_test = X_test.reshape(X_test.shape[0],X_test.shape[1],1)"
   ]
  },
  {
   "cell_type": "markdown",
   "metadata": {},
   "source": [
    "### STACKED LSTM"
   ]
  },
  {
   "cell_type": "code",
   "execution_count": 27,
   "metadata": {},
   "outputs": [],
   "source": [
    "from tensorflow.keras.models import Sequential\n",
    "from tensorflow.keras.layers import Dense\n",
    "from tensorflow.keras.layers import LSTM"
   ]
  },
  {
   "cell_type": "code",
   "execution_count": 28,
   "metadata": {},
   "outputs": [],
   "source": [
    "model = Sequential()\n",
    "model.add(LSTM(50, return_sequences = True, input_shape = (100,1)))\n",
    "model.add(LSTM(50, return_sequences = True))\n",
    "model.add(LSTM(50))\n",
    "model.add(Dense(1))\n",
    "model.compile(loss = 'mean_squared_error', optimizer = 'adam')"
   ]
  },
  {
   "cell_type": "code",
   "execution_count": 29,
   "metadata": {},
   "outputs": [
    {
     "name": "stdout",
     "output_type": "stream",
     "text": [
      "Model: \"sequential\"\n",
      "_________________________________________________________________\n",
      " Layer (type)                Output Shape              Param #   \n",
      "=================================================================\n",
      " lstm (LSTM)                 (None, 100, 50)           10400     \n",
      "                                                                 \n",
      " lstm_1 (LSTM)               (None, 100, 50)           20200     \n",
      "                                                                 \n",
      " lstm_2 (LSTM)               (None, 50)                20200     \n",
      "                                                                 \n",
      " dense (Dense)               (None, 1)                 51        \n",
      "                                                                 \n",
      "=================================================================\n",
      "Total params: 50,851\n",
      "Trainable params: 50,851\n",
      "Non-trainable params: 0\n",
      "_________________________________________________________________\n"
     ]
    }
   ],
   "source": [
    "model.summary()"
   ]
  },
  {
   "cell_type": "code",
   "execution_count": 30,
   "metadata": {},
   "outputs": [
    {
     "name": "stdout",
     "output_type": "stream",
     "text": [
      "Epoch 1/100\n",
      "20/20 [==============================] - 6s 145ms/step - loss: 0.0292 - val_loss: 0.0040\n",
      "Epoch 2/100\n",
      "20/20 [==============================] - 2s 108ms/step - loss: 0.0033 - val_loss: 0.0016\n",
      "Epoch 3/100\n",
      "20/20 [==============================] - 2s 103ms/step - loss: 0.0019 - val_loss: 0.0013\n",
      "Epoch 4/100\n",
      "20/20 [==============================] - 2s 103ms/step - loss: 0.0016 - val_loss: 0.0010\n",
      "Epoch 5/100\n",
      "20/20 [==============================] - 2s 104ms/step - loss: 0.0017 - val_loss: 0.0013\n",
      "Epoch 6/100\n",
      "20/20 [==============================] - 2s 104ms/step - loss: 0.0015 - val_loss: 0.0011\n",
      "Epoch 7/100\n",
      "20/20 [==============================] - 2s 104ms/step - loss: 0.0016 - val_loss: 0.0018\n",
      "Epoch 8/100\n",
      "20/20 [==============================] - 2s 103ms/step - loss: 0.0015 - val_loss: 0.0012\n",
      "Epoch 9/100\n",
      "20/20 [==============================] - 2s 103ms/step - loss: 0.0014 - val_loss: 0.0012\n",
      "Epoch 10/100\n",
      "20/20 [==============================] - 2s 102ms/step - loss: 0.0013 - val_loss: 0.0011\n",
      "Epoch 11/100\n",
      "20/20 [==============================] - 2s 106ms/step - loss: 0.0012 - val_loss: 9.1866e-04\n",
      "Epoch 12/100\n",
      "20/20 [==============================] - 2s 102ms/step - loss: 0.0011 - val_loss: 0.0011\n",
      "Epoch 13/100\n",
      "20/20 [==============================] - 2s 108ms/step - loss: 0.0010 - val_loss: 9.1230e-04\n",
      "Epoch 14/100\n",
      "20/20 [==============================] - 2s 105ms/step - loss: 0.0010 - val_loss: 9.3425e-04\n",
      "Epoch 15/100\n",
      "20/20 [==============================] - 2s 107ms/step - loss: 0.0012 - val_loss: 7.3600e-04\n",
      "Epoch 16/100\n",
      "20/20 [==============================] - 2s 107ms/step - loss: 0.0010 - val_loss: 0.0010\n",
      "Epoch 17/100\n",
      "20/20 [==============================] - 2s 109ms/step - loss: 9.8134e-04 - val_loss: 8.0860e-04\n",
      "Epoch 18/100\n",
      "20/20 [==============================] - 2s 118ms/step - loss: 8.4938e-04 - val_loss: 7.7148e-04\n",
      "Epoch 19/100\n",
      "20/20 [==============================] - 2s 122ms/step - loss: 8.9705e-04 - val_loss: 8.5360e-04\n",
      "Epoch 20/100\n",
      "20/20 [==============================] - 2s 123ms/step - loss: 8.2777e-04 - val_loss: 9.5823e-04\n",
      "Epoch 21/100\n",
      "20/20 [==============================] - 2s 123ms/step - loss: 9.8151e-04 - val_loss: 7.7849e-04\n",
      "Epoch 22/100\n",
      "20/20 [==============================] - 3s 131ms/step - loss: 7.6567e-04 - val_loss: 6.9013e-04\n",
      "Epoch 23/100\n",
      "20/20 [==============================] - 3s 128ms/step - loss: 8.6346e-04 - val_loss: 6.7464e-04\n",
      "Epoch 24/100\n",
      "20/20 [==============================] - 2s 123ms/step - loss: 7.7037e-04 - val_loss: 0.0011\n",
      "Epoch 25/100\n",
      "20/20 [==============================] - 2s 125ms/step - loss: 8.2676e-04 - val_loss: 7.4651e-04\n",
      "Epoch 26/100\n",
      "20/20 [==============================] - 2s 121ms/step - loss: 7.9069e-04 - val_loss: 6.4471e-04\n",
      "Epoch 27/100\n",
      "20/20 [==============================] - 2s 119ms/step - loss: 8.1358e-04 - val_loss: 7.5524e-04\n",
      "Epoch 28/100\n",
      "20/20 [==============================] - 2s 118ms/step - loss: 6.9120e-04 - val_loss: 6.5368e-04\n",
      "Epoch 29/100\n",
      "20/20 [==============================] - 2s 120ms/step - loss: 6.5465e-04 - val_loss: 6.9864e-04\n",
      "Epoch 30/100\n",
      "20/20 [==============================] - 2s 123ms/step - loss: 6.6571e-04 - val_loss: 7.4783e-04\n",
      "Epoch 31/100\n",
      "20/20 [==============================] - 2s 123ms/step - loss: 6.6734e-04 - val_loss: 7.6024e-04\n",
      "Epoch 32/100\n",
      "20/20 [==============================] - 2s 120ms/step - loss: 6.1089e-04 - val_loss: 7.1699e-04\n",
      "Epoch 33/100\n",
      "20/20 [==============================] - 2s 117ms/step - loss: 6.2052e-04 - val_loss: 6.7656e-04\n",
      "Epoch 34/100\n",
      "20/20 [==============================] - 2s 120ms/step - loss: 6.9321e-04 - val_loss: 7.0874e-04\n",
      "Epoch 35/100\n",
      "20/20 [==============================] - 2s 119ms/step - loss: 6.4355e-04 - val_loss: 7.1067e-04\n",
      "Epoch 36/100\n",
      "20/20 [==============================] - 2s 118ms/step - loss: 6.0288e-04 - val_loss: 7.6850e-04\n",
      "Epoch 37/100\n",
      "20/20 [==============================] - 2s 119ms/step - loss: 5.4580e-04 - val_loss: 7.0838e-04\n",
      "Epoch 38/100\n",
      "20/20 [==============================] - 2s 122ms/step - loss: 5.4416e-04 - val_loss: 5.5052e-04\n",
      "Epoch 39/100\n",
      "20/20 [==============================] - 2s 118ms/step - loss: 5.8442e-04 - val_loss: 4.8046e-04\n",
      "Epoch 40/100\n",
      "20/20 [==============================] - 2s 119ms/step - loss: 5.3385e-04 - val_loss: 6.0948e-04\n",
      "Epoch 41/100\n",
      "20/20 [==============================] - 2s 123ms/step - loss: 4.9722e-04 - val_loss: 5.1667e-04\n",
      "Epoch 42/100\n",
      "20/20 [==============================] - 2s 124ms/step - loss: 4.9624e-04 - val_loss: 6.2958e-04\n",
      "Epoch 43/100\n",
      "20/20 [==============================] - 2s 121ms/step - loss: 4.7919e-04 - val_loss: 5.0552e-04\n",
      "Epoch 44/100\n",
      "20/20 [==============================] - 2s 123ms/step - loss: 5.4010e-04 - val_loss: 5.1568e-04\n",
      "Epoch 45/100\n",
      "20/20 [==============================] - 2s 121ms/step - loss: 5.0265e-04 - val_loss: 4.6642e-04\n",
      "Epoch 46/100\n",
      "20/20 [==============================] - 2s 119ms/step - loss: 4.3899e-04 - val_loss: 4.6685e-04\n",
      "Epoch 47/100\n",
      "20/20 [==============================] - 2s 120ms/step - loss: 4.3737e-04 - val_loss: 3.7148e-04\n",
      "Epoch 48/100\n",
      "20/20 [==============================] - 2s 125ms/step - loss: 4.5070e-04 - val_loss: 3.8018e-04\n",
      "Epoch 49/100\n",
      "20/20 [==============================] - 2s 124ms/step - loss: 4.3968e-04 - val_loss: 7.3737e-04\n",
      "Epoch 50/100\n",
      "20/20 [==============================] - 3s 126ms/step - loss: 4.4743e-04 - val_loss: 4.0685e-04\n",
      "Epoch 51/100\n",
      "20/20 [==============================] - 2s 124ms/step - loss: 4.0062e-04 - val_loss: 3.0275e-04\n",
      "Epoch 52/100\n",
      "20/20 [==============================] - 3s 126ms/step - loss: 4.7376e-04 - val_loss: 4.8951e-04\n",
      "Epoch 53/100\n",
      "20/20 [==============================] - 2s 122ms/step - loss: 3.6786e-04 - val_loss: 4.0786e-04\n",
      "Epoch 54/100\n",
      "20/20 [==============================] - 3s 132ms/step - loss: 3.6656e-04 - val_loss: 4.3910e-04\n",
      "Epoch 55/100\n",
      "20/20 [==============================] - 2s 125ms/step - loss: 4.4667e-04 - val_loss: 4.6601e-04\n",
      "Epoch 56/100\n",
      "20/20 [==============================] - 2s 121ms/step - loss: 4.0061e-04 - val_loss: 3.0929e-04\n",
      "Epoch 57/100\n",
      "20/20 [==============================] - 2s 120ms/step - loss: 3.3011e-04 - val_loss: 2.6196e-04\n",
      "Epoch 58/100\n",
      "20/20 [==============================] - 3s 126ms/step - loss: 3.6008e-04 - val_loss: 2.6428e-04\n",
      "Epoch 59/100\n",
      "20/20 [==============================] - 3s 126ms/step - loss: 3.3886e-04 - val_loss: 3.0323e-04\n",
      "Epoch 60/100\n",
      "20/20 [==============================] - 2s 121ms/step - loss: 3.0176e-04 - val_loss: 3.4563e-04\n",
      "Epoch 61/100\n",
      "20/20 [==============================] - 3s 143ms/step - loss: 2.9526e-04 - val_loss: 2.4025e-04\n",
      "Epoch 62/100\n",
      "20/20 [==============================] - 3s 159ms/step - loss: 2.8460e-04 - val_loss: 2.3485e-04\n",
      "Epoch 63/100\n",
      "20/20 [==============================] - 3s 146ms/step - loss: 2.7784e-04 - val_loss: 2.2161e-04\n",
      "Epoch 64/100\n",
      "20/20 [==============================] - 3s 144ms/step - loss: 2.8522e-04 - val_loss: 2.2016e-04\n",
      "Epoch 65/100\n",
      "20/20 [==============================] - 3s 132ms/step - loss: 2.7934e-04 - val_loss: 2.3632e-04\n",
      "Epoch 66/100\n",
      "20/20 [==============================] - 2s 122ms/step - loss: 2.7636e-04 - val_loss: 3.5442e-04\n",
      "Epoch 67/100\n",
      "20/20 [==============================] - 2s 122ms/step - loss: 2.8679e-04 - val_loss: 3.6333e-04\n",
      "Epoch 68/100\n",
      "20/20 [==============================] - 3s 127ms/step - loss: 2.8850e-04 - val_loss: 2.5472e-04\n",
      "Epoch 69/100\n",
      "20/20 [==============================] - 2s 124ms/step - loss: 3.2585e-04 - val_loss: 2.9264e-04\n",
      "Epoch 70/100\n",
      "20/20 [==============================] - 2s 122ms/step - loss: 2.6571e-04 - val_loss: 2.6388e-04\n",
      "Epoch 71/100\n",
      "20/20 [==============================] - 2s 125ms/step - loss: 2.8499e-04 - val_loss: 2.1394e-04\n",
      "Epoch 72/100\n",
      "20/20 [==============================] - 2s 120ms/step - loss: 2.4598e-04 - val_loss: 2.0273e-04\n",
      "Epoch 73/100\n",
      "20/20 [==============================] - 2s 121ms/step - loss: 2.8441e-04 - val_loss: 2.0779e-04\n",
      "Epoch 74/100\n",
      "20/20 [==============================] - 2s 120ms/step - loss: 2.3654e-04 - val_loss: 2.4339e-04\n",
      "Epoch 75/100\n",
      "20/20 [==============================] - 2s 125ms/step - loss: 2.3563e-04 - val_loss: 1.9981e-04\n",
      "Epoch 76/100\n",
      "20/20 [==============================] - 2s 119ms/step - loss: 2.3054e-04 - val_loss: 3.7915e-04\n",
      "Epoch 77/100\n",
      "20/20 [==============================] - 2s 120ms/step - loss: 3.1556e-04 - val_loss: 2.1965e-04\n",
      "Epoch 78/100\n",
      "20/20 [==============================] - 2s 119ms/step - loss: 2.3118e-04 - val_loss: 2.1344e-04\n",
      "Epoch 79/100\n",
      "20/20 [==============================] - 2s 120ms/step - loss: 2.5208e-04 - val_loss: 2.2102e-04\n",
      "Epoch 80/100\n",
      "20/20 [==============================] - 2s 119ms/step - loss: 2.6101e-04 - val_loss: 2.6181e-04\n",
      "Epoch 81/100\n",
      "20/20 [==============================] - 2s 122ms/step - loss: 2.2282e-04 - val_loss: 1.6813e-04\n",
      "Epoch 82/100\n",
      "20/20 [==============================] - 2s 121ms/step - loss: 2.4453e-04 - val_loss: 2.1026e-04\n",
      "Epoch 83/100\n",
      "20/20 [==============================] - 2s 119ms/step - loss: 2.3920e-04 - val_loss: 1.8563e-04\n",
      "Epoch 84/100\n",
      "20/20 [==============================] - 2s 120ms/step - loss: 2.5377e-04 - val_loss: 1.7598e-04\n",
      "Epoch 85/100\n",
      "20/20 [==============================] - 2s 120ms/step - loss: 2.2567e-04 - val_loss: 1.9552e-04\n",
      "Epoch 86/100\n",
      "20/20 [==============================] - 2s 120ms/step - loss: 2.2974e-04 - val_loss: 1.6035e-04\n",
      "Epoch 87/100\n",
      "20/20 [==============================] - 2s 122ms/step - loss: 2.2279e-04 - val_loss: 2.0592e-04\n",
      "Epoch 88/100\n",
      "20/20 [==============================] - 2s 120ms/step - loss: 4.2378e-04 - val_loss: 1.5996e-04\n",
      "Epoch 89/100\n",
      "20/20 [==============================] - 2s 120ms/step - loss: 2.3859e-04 - val_loss: 1.6573e-04\n",
      "Epoch 90/100\n",
      "20/20 [==============================] - 2s 120ms/step - loss: 2.1564e-04 - val_loss: 1.8594e-04\n",
      "Epoch 91/100\n",
      "20/20 [==============================] - 2s 123ms/step - loss: 2.4135e-04 - val_loss: 2.4975e-04\n",
      "Epoch 92/100\n",
      "20/20 [==============================] - 2s 124ms/step - loss: 2.3661e-04 - val_loss: 2.7146e-04\n",
      "Epoch 93/100\n",
      "20/20 [==============================] - 2s 125ms/step - loss: 2.5897e-04 - val_loss: 2.2695e-04\n",
      "Epoch 94/100\n",
      "20/20 [==============================] - 2s 120ms/step - loss: 2.5840e-04 - val_loss: 1.9981e-04\n",
      "Epoch 95/100\n",
      "20/20 [==============================] - 2s 124ms/step - loss: 3.4408e-04 - val_loss: 1.6957e-04\n",
      "Epoch 96/100\n",
      "20/20 [==============================] - 2s 124ms/step - loss: 2.2752e-04 - val_loss: 1.7129e-04\n",
      "Epoch 97/100\n",
      "20/20 [==============================] - 2s 122ms/step - loss: 2.1207e-04 - val_loss: 1.7054e-04\n",
      "Epoch 98/100\n",
      "20/20 [==============================] - 2s 123ms/step - loss: 2.0048e-04 - val_loss: 1.7420e-04\n",
      "Epoch 99/100\n",
      "20/20 [==============================] - 2s 121ms/step - loss: 2.0728e-04 - val_loss: 2.2687e-04\n",
      "Epoch 100/100\n",
      "20/20 [==============================] - 2s 123ms/step - loss: 2.1928e-04 - val_loss: 2.1227e-04\n"
     ]
    },
    {
     "data": {
      "text/plain": [
       "<keras.callbacks.History at 0x271dfe63b80>"
      ]
     },
     "execution_count": 30,
     "metadata": {},
     "output_type": "execute_result"
    }
   ],
   "source": [
    "model.fit(X_train,y_train,validation_data = (X_test,y_test),epochs = 100, batch_size = 64, verbose = 1)"
   ]
  },
  {
   "cell_type": "markdown",
   "metadata": {},
   "source": [
    "### PREDICTION"
   ]
  },
  {
   "cell_type": "markdown",
   "metadata": {},
   "source": [
    "Now predicting the x_train and y_train, and in order to see the root mean squared performance lets scaler inverse transform"
   ]
  },
  {
   "cell_type": "code",
   "execution_count": 31,
   "metadata": {},
   "outputs": [],
   "source": [
    "train_predict = model.predict(X_train)\n",
    "test_predict = model.predict(X_test)"
   ]
  },
  {
   "cell_type": "code",
   "execution_count": 32,
   "metadata": {},
   "outputs": [],
   "source": [
    "train_predict = scaler.inverse_transform(train_predict)\n",
    "test_predict = scaler.inverse_transform(test_predict)"
   ]
  },
  {
   "cell_type": "markdown",
   "metadata": {},
   "source": [
    "Calculating root_mean_square performance metrics"
   ]
  },
  {
   "cell_type": "code",
   "execution_count": 33,
   "metadata": {},
   "outputs": [
    {
     "data": {
      "text/plain": [
       "167.5817537186368"
      ]
     },
     "execution_count": 33,
     "metadata": {},
     "output_type": "execute_result"
    }
   ],
   "source": [
    "import math\n",
    "from sklearn.metrics import mean_squared_error\n",
    "math.sqrt(mean_squared_error(y_train,train_predict))"
   ]
  },
  {
   "cell_type": "markdown",
   "metadata": {},
   "source": [
    "Testing data root_mean_square"
   ]
  },
  {
   "cell_type": "code",
   "execution_count": 34,
   "metadata": {},
   "outputs": [
    {
     "data": {
      "text/plain": [
       "116.68439314956946"
      ]
     },
     "execution_count": 34,
     "metadata": {},
     "output_type": "execute_result"
    }
   ],
   "source": [
    "math.sqrt(mean_squared_error(y_test,test_predict))"
   ]
  },
  {
   "cell_type": "markdown",
   "metadata": {},
   "source": [
    "### PLOTTING"
   ]
  },
  {
   "cell_type": "code",
   "execution_count": 35,
   "metadata": {},
   "outputs": [
    {
     "data": {
      "image/png": "[encoded data removed]",
      "text/plain": [
       "<Figure size 432x288 with 1 Axes>"
      ]
     },
     "metadata": {
      "needs_background": "light"
     },
     "output_type": "display_data"
    }
   ],
   "source": [
    "look_back = 100\n",
    "\n",
    "# shift train prediction \n",
    "\n",
    "trainPredict = np.empty_like(data1)\n",
    "trainPredict[:,:] = np.nan\n",
    "trainPredict[look_back:len(train_predict)+look_back, :] = train_predict\n",
    "\n",
    "# shift test prediction\n",
    "\n",
    "testPredict = np.empty_like(data1)\n",
    "testPredict[:,:] = np.nan\n",
    "testPredict[len(train_predict) + (look_back * 2)+1:len(data1)-1, :] = test_predict\n",
    "\n",
    "# plot baseline and predictions\n",
    "\n",
    "plt.plot(scaler.inverse_transform(data1))\n",
    "plt.plot(trainPredict)\n",
    "plt.plot(testPredict)\n",
    "plt.show()"
   ]
  }
 ],
 "metadata": {
  "kernelspec": {
   "display_name": "Python 3",
   "language": "python",
   "name": "python3"
  },
  "language_info": {
   "codemirror_mode": {
    "name": "ipython",
    "version": 3
   },
   "file_extension": ".py",
   "mimetype": "text/x-python",
   "name": "python",
   "nbconvert_exporter": "python",
   "pygments_lexer": "ipython3",
   "version": "3.8.5"
  }
 },
 "nbformat": 4,
 "nbformat_minor": 4
}
